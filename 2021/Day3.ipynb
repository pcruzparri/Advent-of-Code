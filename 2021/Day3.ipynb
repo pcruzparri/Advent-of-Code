{
 "cells": [
  {
   "cell_type": "code",
   "execution_count": 1,
   "metadata": {},
   "outputs": [
    {
     "data": {
      "text/plain": [
       "2498354"
      ]
     },
     "execution_count": 1,
     "metadata": {},
     "output_type": "execute_result"
    }
   ],
   "source": [
    "import numpy as np\n",
    "\n",
    "f = open('C:\\\\Users\\\\Peter\\\\Documents\\\\AdventOfCode2021\\\\3input.txt','r')\n",
    "inp = f.readlines()\n",
    "\n",
    "def bintodec(string): \n",
    "    dec = 0\n",
    "    for i in range(len(string)):\n",
    "        dec+=int(string[-(i+1)])*2**i\n",
    "    return dec\n",
    "\n",
    "gamma = np.zeros(len(inp[0])-1)\n",
    "\n",
    "for i in inp:\n",
    "    gamma+=np.array([int(j) for j in list(i)[:-1]])\n",
    "    \n",
    "gamma/=len(inp)\n",
    "epsilon = [abs(i-1) for i in gamma]\n",
    "gamma = ''.join([str(round(i)) for i in gamma])\n",
    "epsilon = ''.join([str(round(i)) for i in epsilon])\n",
    "\n",
    "bintodec(gamma)*bintodec(epsilon)\n"
   ]
  },
  {
   "cell_type": "code",
   "execution_count": 2,
   "metadata": {},
   "outputs": [
    {
     "name": "stdout",
     "output_type": "stream",
     "text": [
      "0 != 1\n",
      "00 != 2\n",
      "001 != 3\n",
      "0011 != 4\n",
      "00110 != 5\n",
      "001101 != 6\n",
      "0011010 != 7\n",
      "00110100 != 8\n",
      "001101000 == 9\n"
     ]
    },
    {
     "data": {
      "text/plain": [
       "3277956"
      ]
     },
     "execution_count": 2,
     "metadata": {},
     "output_type": "execute_result"
    }
   ],
   "source": [
    "from statistics import mode\n",
    "ogr = ''\n",
    "pos_list=[[i for i in j[:-1]] for j in inp]\n",
    "counter = 0\n",
    "while len(pos_list)>1:\n",
    "    cur_lst = np.transpose(pos_list)\n",
    "    if list(cur_lst[counter]).count('1')==list(cur_lst[counter]).count('0'):\n",
    "        ogr+='1'\n",
    "    else:\n",
    "        ogr+=str(mode(cur_lst[counter]))\n",
    "    counter+=1\n",
    "    pos_list = [[i for i in j[:-1]] for j in inp if \"\".join(j)[:len(ogr)]==ogr]\n",
    "for i in inp:\n",
    "    if i[:len(ogr)]==ogr: \n",
    "        ogr = i[:-1]\n",
    "    \n",
    "csr=''\n",
    "pos_list=[[i for i in j[:-1]] for j in inp]\n",
    "counter = 0\n",
    "while len(pos_list)>1:\n",
    "    cur_lst = np.transpose(pos_list)\n",
    "    if list(cur_lst[counter]).count('1')==list(cur_lst[counter]).count('0'):\n",
    "        csr+='0'\n",
    "        print(csr, '==', len(csr))\n",
    "    else:\n",
    "        csr+=str(abs(int(mode(cur_lst[counter]))-1))\n",
    "        print(csr, '!=', len(csr))\n",
    "    counter+=1\n",
    "    pos_list = [[i for i in j[:-1]] for j in inp if \"\".join(j)[:len(csr)]==csr]    \n",
    "for i in inp:\n",
    "    if i[:len(csr)]==csr: \n",
    "        csr = i[:-1]\n",
    "        \n",
    "bintodec(ogr)*bintodec(csr)"
   ]
  }
 ],
 "metadata": {
  "kernelspec": {
   "display_name": "Python 3",
   "language": "python",
   "name": "python3"
  },
  "language_info": {
   "codemirror_mode": {
    "name": "ipython",
    "version": 3
   },
   "file_extension": ".py",
   "mimetype": "text/x-python",
   "name": "python",
   "nbconvert_exporter": "python",
   "pygments_lexer": "ipython3",
   "version": "3.8.3"
  }
 },
 "nbformat": 4,
 "nbformat_minor": 4
}
