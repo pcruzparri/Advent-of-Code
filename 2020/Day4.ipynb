{
 "cells": [
  {
   "cell_type": "code",
   "execution_count": 3,
   "metadata": {},
   "outputs": [
    {
     "data": {
      "text/plain": [
       "264"
      ]
     },
     "execution_count": 3,
     "metadata": {},
     "output_type": "execute_result"
    }
   ],
   "source": [
    "f = open(\"Day4input.txt\",\"r\")\n",
    "pspts = f.readlines()\n",
    "\n",
    "valid = []\n",
    "pspt = {}\n",
    "\n",
    "for i in pspts:\n",
    "    if i.split() != []:\n",
    "        for j in i.split():\n",
    "            pspt[j.split(\":\")[0]] = str(j.split(\":\")[1])\n",
    "            \n",
    "    else:\n",
    "        if \"byr\" in pspt and \"iyr\" in pspt and \"eyr\" in pspt and \"hgt\" in pspt and \"hcl\" in pspt and \"ecl\" in pspt and \"pid\" in pspt:\n",
    "            valid.append(pspt)\n",
    "        pspt = {}\n",
    "    \n",
    "len(valid)"
   ]
  },
  {
   "cell_type": "code",
   "execution_count": 12,
   "metadata": {},
   "outputs": [
    {
     "data": {
      "text/plain": [
       "224"
      ]
     },
     "execution_count": 12,
     "metadata": {},
     "output_type": "execute_result"
    }
   ],
   "source": [
    "true_valid = 0\n",
    "\n",
    "for i in valid:\n",
    "    try:\n",
    "        byr = int(i[\"byr\"])\n",
    "        iyr = int(i[\"iyr\"])\n",
    "        eyr = int(i[\"eyr\"])\n",
    "        hgt = int(i[\"hgt\"][:-2])\n",
    "        \n",
    "        if 1920<=byr<=2002: \n",
    "            if 2010<=iyr<=2020:\n",
    "                if 2020<=eyr<=2030:\n",
    "                    val_hgt = False\n",
    "                    if i[\"hgt\"][-2:]==\"cm\" and 150<=hgt<=193:\n",
    "                        val_hgt=True\n",
    "                    if i[\"hgt\"][-2:]==\"in\" and 59<=hgt<=76:\n",
    "                        val_hgt=True\n",
    "                    if val_hgt==True:\n",
    "                        hcl = [\"0\",\"1\",\"2\",\"3\",\"4\",\"5\",\"6\",\"7\",\"8\",\"9\",\"a\",\"b\",\"c\",\"d\",\"e\",\"f\"]\n",
    "                        if i[\"hcl\"][0]==\"#\" and (i[\"hcl\"][x] in hcl for x in range(1,len(i[\"hcl\"]))):\n",
    "                            ecls = [\"amb\", \"blu\", \"brn\", \"gry\",'grn', 'hzl', 'oth']\n",
    "                            if len(i[\"ecl\"])==3 and i[\"ecl\"] in ecls:\n",
    "                                if len(i[\"pid\"])==9 and int(i[\"pid\"]):\n",
    "                                    true_valid += 1\n",
    "    except:\n",
    "        pass\n",
    "    \n",
    "true_valid"
   ]
  },
  {
   "cell_type": "code",
   "execution_count": null,
   "metadata": {},
   "outputs": [],
   "source": []
  }
 ],
 "metadata": {
  "kernelspec": {
   "display_name": "Python 3",
   "language": "python",
   "name": "python3"
  },
  "language_info": {
   "codemirror_mode": {
    "name": "ipython",
    "version": 3
   },
   "file_extension": ".py",
   "mimetype": "text/x-python",
   "name": "python",
   "nbconvert_exporter": "python",
   "pygments_lexer": "ipython3",
   "version": "3.8.3"
  }
 },
 "nbformat": 4,
 "nbformat_minor": 4
}
