{
 "cells": [
  {
   "cell_type": "code",
   "execution_count": 2,
   "metadata": {},
   "outputs": [
    {
     "data": {
      "text/plain": [
       "6775"
      ]
     },
     "execution_count": 2,
     "metadata": {},
     "output_type": "execute_result"
    }
   ],
   "source": [
    "f = open(\"Day6input.txt\", \"r\")\n",
    "answers = f.readlines()\n",
    "\n",
    "group_ans = []\n",
    "count = 0\n",
    "\n",
    "for i in answers:\n",
    "    if i.split()!=[]:\n",
    "        for j in i.split()[0]:\n",
    "            if j not in group_ans:\n",
    "                group_ans.append(j)\n",
    "            else:\n",
    "                continue\n",
    "    else: \n",
    "        count += len(group_ans)\n",
    "        group_ans = []\n",
    "        \n",
    "count\n",
    "\n"
   ]
  },
  {
   "cell_type": "code",
   "execution_count": 7,
   "metadata": {},
   "outputs": [
    {
     "data": {
      "text/plain": [
       "3356"
      ]
     },
     "execution_count": 7,
     "metadata": {},
     "output_type": "execute_result"
    }
   ],
   "source": [
    "group_ans = []\n",
    "count = 0\n",
    "group_len = 0\n",
    "counted = []\n",
    "\n",
    "for i in answers:\n",
    "    if i.split()!=[]:\n",
    "        for j in i.split()[0]:\n",
    "            group_ans.append(j)\n",
    "        group_len+=1\n",
    "    else: \n",
    "        for k in group_ans:\n",
    "            if group_ans.count(k)==group_len and k not in counted:\n",
    "                counted.append(k)            \n",
    "        count += len(counted)\n",
    "        group_ans = []\n",
    "        counted = []\n",
    "        group_len = 0\n",
    "        \n",
    "count\n",
    "\n"
   ]
  },
  {
   "cell_type": "code",
   "execution_count": null,
   "metadata": {},
   "outputs": [],
   "source": []
  }
 ],
 "metadata": {
  "kernelspec": {
   "display_name": "Python 3",
   "language": "python",
   "name": "python3"
  },
  "language_info": {
   "codemirror_mode": {
    "name": "ipython",
    "version": 3
   },
   "file_extension": ".py",
   "mimetype": "text/x-python",
   "name": "python",
   "nbconvert_exporter": "python",
   "pygments_lexer": "ipython3",
   "version": "3.8.3"
  }
 },
 "nbformat": 4,
 "nbformat_minor": 4
}
