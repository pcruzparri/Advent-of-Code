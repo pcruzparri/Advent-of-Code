{
 "cells": [
  {
   "cell_type": "code",
   "execution_count": 4,
   "metadata": {},
   "outputs": [
    {
     "data": {
      "text/plain": [
       "1507611"
      ]
     },
     "execution_count": 4,
     "metadata": {},
     "output_type": "execute_result"
    }
   ],
   "source": [
    "f = open('C:\\\\Users\\\\Peter\\\\Documents\\\\AdventOfCode2021\\\\2input.txt','r')\n",
    "inp = f.readlines()\n",
    "\n",
    "hor = 0\n",
    "depth = 0\n",
    "for i in range(len(inp)):\n",
    "    if inp[i][0] == 'f':\n",
    "        hor+=int(inp[i].split(' ')[1])\n",
    "    if inp[i][0] == 'd':\n",
    "        depth+=int(inp[i].split(' ')[1])\n",
    "    if inp[i][0] == 'u':\n",
    "        depth-=int(inp[i].split(' ')[1])\n",
    "hor*depth"
   ]
  },
  {
   "cell_type": "code",
   "execution_count": 5,
   "metadata": {},
   "outputs": [
    {
     "data": {
      "text/plain": [
       "1880593125"
      ]
     },
     "execution_count": 5,
     "metadata": {},
     "output_type": "execute_result"
    }
   ],
   "source": [
    "hor = 0\n",
    "depth = 0\n",
    "aim = 0\n",
    "for i in range(len(inp)):\n",
    "    if inp[i][0] == 'f':\n",
    "        hor+=int(inp[i].split(' ')[1])\n",
    "        depth+= aim*int(inp[i].split(' ')[1])\n",
    "    if inp[i][0] == 'd':\n",
    "        aim+=int(inp[i].split(' ')[1])\n",
    "    if inp[i][0] == 'u':\n",
    "        aim-=int(inp[i].split(' ')[1])\n",
    "        \n",
    "hor*depth"
   ]
  },
  {
   "cell_type": "code",
   "execution_count": null,
   "metadata": {},
   "outputs": [],
   "source": []
  }
 ],
 "metadata": {
  "kernelspec": {
   "display_name": "Python 3",
   "language": "python",
   "name": "python3"
  },
  "language_info": {
   "codemirror_mode": {
    "name": "ipython",
    "version": 3
   },
   "file_extension": ".py",
   "mimetype": "text/x-python",
   "name": "python",
   "nbconvert_exporter": "python",
   "pygments_lexer": "ipython3",
   "version": "3.8.3"
  }
 },
 "nbformat": 4,
 "nbformat_minor": 4
}
