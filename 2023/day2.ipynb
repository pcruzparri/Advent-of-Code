{
 "cells": [
  {
   "cell_type": "code",
   "execution_count": 101,
   "id": "7c6f44f0",
   "metadata": {
    "scrolled": true
   },
   "outputs": [
    {
     "data": {
      "text/plain": [
       "{'Game 1': [{'green': 20, 'red': 3, 'blue': 2},\n",
       "  {'red': 9, 'blue': 16, 'green': 18},\n",
       "  {'blue': 6, 'red': 19, 'green': 10},\n",
       "  {'red': 12, 'green': 19, 'blue': 11}],\n",
       " 'Game 2': [{'green': 12, 'blue': 3, 'red': 16},\n",
       "  {'red': 6, 'blue': 4, 'green': 12},\n",
       "  {'green': 11, 'red': 4, 'blue': 3},\n",
       "  {'green': 8, 'red': 15, 'blue': 5}],\n",
       " 'Game 3': [{'blue': 13, 'red': 4, 'green': 8},\n",
       "  {'green': 2, 'red': 4, 'blue': 19},\n",
       "  {'blue': 5},\n",
       "  {'blue': 10, 'green': 6, 'red': 2},\n",
       "  {'blue': 19},\n",
       "  {'blue': 8, 'red': 6}]}"
      ]
     },
     "execution_count": 101,
     "metadata": {},
     "output_type": "execute_result"
    }
   ],
   "source": [
    "f = open('day2_input.txt', 'r').readlines()\n",
    "game_data = {game.split(':')[0]:[{num_color.split()[1]:int(num_color.split()[0]) for num_color in sub.split(', ')}\n",
    "                                 for sub in game.split(':')[1].split(';')] for game in f}\n",
    "dict(list(game_data.items())[:3])"
   ]
  },
  {
   "cell_type": "markdown",
   "id": "21c7897a",
   "metadata": {},
   "source": [
    "### Solution 1"
   ]
  },
  {
   "cell_type": "code",
   "execution_count": 72,
   "id": "f6f58225",
   "metadata": {},
   "outputs": [
    {
     "data": {
      "text/plain": [
       "2545"
      ]
     },
     "execution_count": 72,
     "metadata": {},
     "output_type": "execute_result"
    }
   ],
   "source": [
    "import toolz\n",
    "\n",
    "colors = ['blue', 'green', 'red']\n",
    "conds =  {'blue': 14, 'green': 13, 'red': 12}\n",
    "\n",
    "sum([int(game.split()[1]) for game, subs in game_data.items() \n",
    "     if all([conds[color] >= toolz.merge_with(max, *subs)[color] for color in colors])])"
   ]
  },
  {
   "cell_type": "markdown",
   "id": "62f6ffb8",
   "metadata": {},
   "source": [
    "### Solution 2"
   ]
  },
  {
   "cell_type": "code",
   "execution_count": 93,
   "id": "153ea0f2",
   "metadata": {},
   "outputs": [
    {
     "data": {
      "text/plain": [
       "78111"
      ]
     },
     "execution_count": 93,
     "metadata": {},
     "output_type": "execute_result"
    }
   ],
   "source": [
    "import functools as ft\n",
    "\n",
    "sum([ft.reduce(lambda x,y:x*y, toolz.merge_with(max, *subs).values())\n",
    "     for game, subs in game_data.items()])"
   ]
  },
  {
   "cell_type": "code",
   "execution_count": null,
   "id": "669aca9f",
   "metadata": {},
   "outputs": [],
   "source": []
  }
 ],
 "metadata": {
  "kernelspec": {
   "display_name": "Python 3 (ipykernel)",
   "language": "python",
   "name": "python3"
  },
  "language_info": {
   "codemirror_mode": {
    "name": "ipython",
    "version": 3
   },
   "file_extension": ".py",
   "mimetype": "text/x-python",
   "name": "python",
   "nbconvert_exporter": "python",
   "pygments_lexer": "ipython3",
   "version": "3.8.16"
  }
 },
 "nbformat": 4,
 "nbformat_minor": 5
}
