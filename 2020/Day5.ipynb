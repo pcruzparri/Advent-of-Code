{
 "cells": [
  {
   "cell_type": "code",
   "execution_count": 76,
   "metadata": {},
   "outputs": [
    {
     "data": {
      "text/plain": [
       "(70, 7, 567)"
      ]
     },
     "execution_count": 76,
     "metadata": {},
     "output_type": "execute_result"
    }
   ],
   "source": [
    "def seat_finder(seat_code, row_min, row_max, col_min, col_max):\n",
    "    if len(seat_code) == 0:\n",
    "            return row_min, col_min\n",
    "    elif seat_code[0]==\"F\":\n",
    "        # print(f\"{seat_code} found. Looking at range {row_min} to {row_max}\")\n",
    "        return seat_finder(seat_code[1:], row_min, (row_min+row_max)//2, col_min, col_max)\n",
    "    elif seat_code[0]==\"B\":\n",
    "        # print(f\"{seat_code} found. Looking at range {row_min} to {row_max}\")\n",
    "        return seat_finder(seat_code[1:], (row_min+row_max)//2+1, row_max, col_min, col_max)\n",
    "    elif seat_code[0]==\"L\":\n",
    "        #print(seat_code)\n",
    "        return seat_finder(seat_code[1:], row_min, row_max, col_min, (col_min+col_max)//2)\n",
    "    elif seat_code[0]==\"R\":\n",
    "        #print(seat_code)\n",
    "        return seat_finder(seat_code[1:], row_min, row_max, (col_min+col_max)//2+1, col_max)\n",
    "    \n",
    "    \n",
    "row, col = seat_finder(\"BFFFBBFRRR\", 0, 127, 0, 7)\n",
    "row, col, row*8+col"
   ]
  },
  {
   "cell_type": "code",
   "execution_count": 74,
   "metadata": {},
   "outputs": [
    {
     "data": {
      "text/plain": [
       "938"
      ]
     },
     "execution_count": 74,
     "metadata": {},
     "output_type": "execute_result"
    }
   ],
   "source": [
    "f = open(\"Day5input.txt\", \"r\")\n",
    "codes = f.readlines()\n",
    "\n",
    "ids = []\n",
    "\n",
    "for i in codes:\n",
    "    row, col = seat_finder(str(i.split()[0]), 0, 127, 0, 7)\n",
    "    #print(row*8+col, highest_ID, (row*8+col)>highest_ID)\n",
    "    ids.append(row*8+col)\n",
    "\n",
    "ids.sort()\n",
    "max(ids)"
   ]
  },
  {
   "cell_type": "code",
   "execution_count": 75,
   "metadata": {},
   "outputs": [
    {
     "name": "stdout",
     "output_type": "stream",
     "text": [
      "696\n"
     ]
    }
   ],
   "source": [
    "for i in range(min(ids),max(ids)):\n",
    "    if i not in ids: \n",
    "        print(i)"
   ]
  }
 ],
 "metadata": {
  "kernelspec": {
   "display_name": "Python 3",
   "language": "python",
   "name": "python3"
  },
  "language_info": {
   "codemirror_mode": {
    "name": "ipython",
    "version": 3
   },
   "file_extension": ".py",
   "mimetype": "text/x-python",
   "name": "python",
   "nbconvert_exporter": "python",
   "pygments_lexer": "ipython3",
   "version": "3.8.3"
  }
 },
 "nbformat": 4,
 "nbformat_minor": 4
}
