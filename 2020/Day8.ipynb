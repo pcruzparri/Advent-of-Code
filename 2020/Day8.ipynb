{
 "cells": [
  {
   "cell_type": "code",
   "execution_count": 13,
   "metadata": {},
   "outputs": [],
   "source": [
    "f = open('Day8input.txt', 'r')\n",
    "steps = f.readlines()"
   ]
  },
  {
   "cell_type": "code",
   "execution_count": 14,
   "metadata": {},
   "outputs": [
    {
     "data": {
      "text/plain": [
       "1867"
      ]
     },
     "execution_count": 14,
     "metadata": {},
     "output_type": "execute_result"
    }
   ],
   "source": [
    "acc = 0\n",
    "visited = []\n",
    "index = 0\n",
    "\n",
    "while (index, steps[index][:-1]) not in visited:\n",
    "    visited.append((index, steps[index][:-1]))\n",
    "    if steps[index][:3] == 'nop':\n",
    "        index += 1\n",
    "    elif steps[index][:3] == 'jmp':\n",
    "        index += int(steps[index].split(' ')[1][:-1])\n",
    "    if steps[index][:3] == 'acc':\n",
    "        acc += int(steps[index].split(' ')[1][:-1])\n",
    "        index += 1\n",
    "acc\n",
    "        \n",
    "    \n",
    "\n"
   ]
  },
  {
   "cell_type": "code",
   "execution_count": 15,
   "metadata": {},
   "outputs": [],
   "source": [
    "changes = [visited[i] for i in range(len(visited)) if visited[i][1][:3]=='jmp' or (visited[i][1][:3]=='nop' and int(visited[i][1][5])>=1)]\n",
    "#changes"
   ]
  },
  {
   "cell_type": "code",
   "execution_count": 16,
   "metadata": {},
   "outputs": [
    {
     "name": "stdout",
     "output_type": "stream",
     "text": [
      "1303\n"
     ]
    }
   ],
   "source": [
    "acc = 0\n",
    "visited_new = []\n",
    "index = 0\n",
    "\n",
    "for i in changes:\n",
    "    try:\n",
    "        if i[1][:3]=='nop':\n",
    "            steps[i[0]] = 'jmp' + i[1][3:]\n",
    "        elif i[1][:3]=='jmp':\n",
    "            steps[i[0]] = 'nop' + i[1][3:]\n",
    "\n",
    "        while ((index, steps[index]) not in visited_new):\n",
    "            visited_new.append((index, steps[index]))\n",
    "            if steps[index][:3] == 'nop':\n",
    "                index += 1\n",
    "            elif steps[index][:3] == 'jmp':\n",
    "                index += int(steps[index].split(' ')[1])\n",
    "            if steps[index][:3] == 'acc':\n",
    "                acc += int(steps[index].split(' ')[1])\n",
    "                index += 1\n",
    "\n",
    "        else:\n",
    "            if i[1][:3]=='nop':\n",
    "                steps[i[0]] = 'nop' + i[1][3:]\n",
    "            elif i[1][:3]=='jmp':\n",
    "                steps[i[0]] = 'jmp' + i[1][3:]\n",
    "            index = 0\n",
    "            acc = 0\n",
    "            visited_new = []\n",
    "        \n",
    "    except:\n",
    "        print(acc)\n",
    "        break\n",
    "        \n"
   ]
  },
  {
   "cell_type": "code",
   "execution_count": null,
   "metadata": {},
   "outputs": [],
   "source": []
  }
 ],
 "metadata": {
  "kernelspec": {
   "display_name": "Python 3",
   "language": "python",
   "name": "python3"
  },
  "language_info": {
   "codemirror_mode": {
    "name": "ipython",
    "version": 3
   },
   "file_extension": ".py",
   "mimetype": "text/x-python",
   "name": "python",
   "nbconvert_exporter": "python",
   "pygments_lexer": "ipython3",
   "version": "3.8.3"
  }
 },
 "nbformat": 4,
 "nbformat_minor": 4
}
