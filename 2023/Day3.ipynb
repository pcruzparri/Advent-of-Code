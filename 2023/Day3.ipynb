{
 "cells": [
  {
   "cell_type": "code",
   "execution_count": 136,
   "id": "82b9e41b-0238-4774-8364-3719ac1aff38",
   "metadata": {},
   "outputs": [
    {
     "data": {
      "text/plain": [
       "['.........426.............985.........40..........207............................841..463................................633........17.384...',\n",
       " '531&......+..........125....-..312..........#........895......998..945.....@......$.....-...33...................353.....*........*.........',\n",
       " '........................#......*...........21..727..*..../..-./.............545......80...................602......@..272.......743.........',\n",
       " '...........558.577..........486...186*925.....*....483.883.1....286...................................625..................#474.....491.....',\n",
       " '..............*.........243.................287................*............$....245............830.........793......#..........306..*......']"
      ]
     },
     "execution_count": 136,
     "metadata": {},
     "output_type": "execute_result"
    }
   ],
   "source": [
    "f = open('day3_input.txt', 'r').readlines()\n",
    "schematic = [line.strip('\\n') for line in f]\n",
    "schematic[:5]"
   ]
  },
  {
   "cell_type": "code",
   "execution_count": 137,
   "id": "37584bf8-1a64-44d3-b0db-1f11a8fff55c",
   "metadata": {},
   "outputs": [],
   "source": [
    "test=['467..114..',\n",
    "      '...*......',\n",
    "      '..35..633.',\n",
    "      '......#...',\n",
    "      '617*......',\n",
    "      '.....+.58.',\n",
    "      '..592.....',\n",
    "      '......755.',\n",
    "      '...$.*....',\n",
    "      '.664.598..']"
   ]
  },
  {
   "cell_type": "code",
   "execution_count": 149,
   "id": "c6139e24-7832-4435-b981-a465e680e624",
   "metadata": {},
   "outputs": [],
   "source": [
    "from string import punctuation as p, digits as d\n",
    "import toolz.itertoolz as it\n",
    "\n",
    "def adjacent_until(line, start_index, bound_marking):\n",
    "    val = ''\n",
    "    left_ind = start_index\n",
    "    right_ind = left_ind+1 if left_ind+1<len(line) else None\n",
    "    left_end = False\n",
    "    right_end = False\n",
    "    while not left_end or not right_end:\n",
    "        \"\"\"print(val, \n",
    "              left_ind>=0, right_ind<len(line), \n",
    "              line[left_ind], line[left_ind] not in bound_marking,\n",
    "              line[right_ind], line[right_ind] not in bound_marking)\"\"\"\n",
    "        if left_ind>=0 and line[left_ind] not in bound_marking:\n",
    "            val=line[left_ind]+val\n",
    "            left_ind-=1\n",
    "        else: left_end=True\n",
    "        if right_ind<len(line) and line[right_ind] not in bound_marking:\n",
    "            val=val+line[right_ind]\n",
    "            right_ind+=1\n",
    "        else: right_end=True\n",
    "    return val, (left_ind+1, right_ind-1)\n",
    "\n",
    "def check_adjacent_matrix(matrix, row_ind, col_ind, check_for):\n",
    "    minx = col_ind-1 if col_ind-1>=0 else 0\n",
    "    maxx = col_ind+1 if col_ind+1<len(matrix[row_ind]) else col_ind\n",
    "    miny = row_ind-1 if row_ind-1>=0 else 0\n",
    "    maxy = row_ind+1 if row_ind+1<len(matrix) else row_ind\n",
    "    \"\"\"\n",
    "    print(matrix[row_ind][col_ind], [True if matrix[ri][ci] in check_for else False \n",
    "                                     for ri in range(miny, maxy+1, 1) for ci in range(minx, maxx+1, 1)])\n",
    "    \"\"\"\n",
    "    return any([True if matrix[ri][ci] in check_for else False\n",
    "                for ri in range(miny, maxy+1, 1) for ci in range(minx, maxx+1, 1)])\n",
    "\n",
    "\n",
    "\n",
    "#print(adjacent_until(schematic[0], 10, p))\n",
    "\n",
    "#check_for = list(p)\n",
    "#check_for.remove('.')\n",
    "#check_for = ''.join(check_for)\n",
    "#check_adjacent_matrix(test, 2, 9, check_for)"
   ]
  },
  {
   "cell_type": "code",
   "execution_count": null,
   "id": "82e56cb4-7bd4-4981-ab4b-492c6d91c022",
   "metadata": {},
   "outputs": [],
   "source": []
  },
  {
   "cell_type": "code",
   "execution_count": 139,
   "id": "9c435996-ce8c-46ba-9d8c-2a1191328ffa",
   "metadata": {},
   "outputs": [
    {
     "data": {
      "text/plain": [
       "546312"
      ]
     },
     "execution_count": 139,
     "metadata": {},
     "output_type": "execute_result"
    }
   ],
   "source": [
    "check_for = list(p)\n",
    "check_for.remove('.')\n",
    "check_for = ''.join(check_for)\n",
    "\n",
    "vals = []\n",
    "for i, row in enumerate(schematic):\n",
    "    cont_index = 0\n",
    "    while cont_index < len(row):\n",
    "        if row[cont_index] in d and check_adjacent_matrix(schematic, i, cont_index, check_for):\n",
    "            num, num_indices = adjacent_until(row, cont_index, p)\n",
    "            #print(num, num_indices)\n",
    "            vals.append(int(num))\n",
    "            cont_index=num_indices[1]+1\n",
    "        else: cont_index+=1\n",
    "sum(vals)"
   ]
  },
  {
   "cell_type": "code",
   "execution_count": null,
   "id": "aa07f61b-514f-4b02-a100-0d37c25a8dec",
   "metadata": {},
   "outputs": [],
   "source": []
  },
  {
   "cell_type": "code",
   "execution_count": 179,
   "id": "d010e578-b68d-459c-adfe-68c1e475ebd7",
   "metadata": {},
   "outputs": [
    {
     "data": {
      "text/plain": [
       "87449461"
      ]
     },
     "execution_count": 179,
     "metadata": {},
     "output_type": "execute_result"
    }
   ],
   "source": [
    "check_for = list(p)\n",
    "check_for.remove('.')\n",
    "check_for = ''.join(check_for)\n",
    "\n",
    "vals = []\n",
    "for i, row in enumerate(schematic):\n",
    "    cont_index = 0\n",
    "    while cont_index < len(row):\n",
    "        nums = []\n",
    "        if row[cont_index]=='*' and check_adjacent_matrix(schematic, i, cont_index, d):\n",
    "            minx = cont_index-1 if cont_index-1>=0 else 0\n",
    "            maxx = cont_index+1 if cont_index+1<len(schematic[i]) else cont_index\n",
    "            miny = i-1 if i-1>=0 else 0\n",
    "            maxy = i+1 if i+1<len(schematic) else i\n",
    "            adj = [adjacent_until(schematic[ri], ci, p) if schematic[ri][ci] in d else schematic[ri][ci]\n",
    "                   for ri in range(miny, maxy+1, 1) for ci in range(minx, maxx+1, 1)]\n",
    "            \n",
    "            adj_nums = list(it.concat([list(it.unique(list([x for x in i if type(x)==tuple]))) for i in it.partition(3, adj)]))\n",
    "            vals.append(int(adj_nums[0][0])*int(adj_nums[1][0]) if len(adj_nums)==2 else 0)\n",
    "        cont_index+=1\n",
    "\n",
    "sum(vals)"
   ]
  }
 ],
 "metadata": {
  "kernelspec": {
   "display_name": "Python 3 (ipykernel)",
   "language": "python",
   "name": "python3"
  },
  "language_info": {
   "codemirror_mode": {
    "name": "ipython",
    "version": 3
   },
   "file_extension": ".py",
   "mimetype": "text/x-python",
   "name": "python",
   "nbconvert_exporter": "python",
   "pygments_lexer": "ipython3",
   "version": "3.10.12"
  }
 },
 "nbformat": 4,
 "nbformat_minor": 5
}
