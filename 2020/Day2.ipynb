{
 "cells": [
  {
   "cell_type": "code",
   "execution_count": 65,
   "metadata": {},
   "outputs": [
    {
     "data": {
      "text/plain": [
       "548"
      ]
     },
     "execution_count": 65,
     "metadata": {},
     "output_type": "execute_result"
    }
   ],
   "source": [
    "f = open(\"Day2input.txt\",\"r\")\n",
    "pwds = f.readlines()\n",
    "\n",
    "valid = 0\n",
    "\n",
    "for i in pwds: \n",
    "    pwd_data = i.replace(\"-\", \" \").replace(\":\", \"\").strip(\"\\n\").split()\n",
    "    if int(pwd_data[0])<=int(pwd_data[3].count(pwd_data[2]))<=int(pwd_data[1]):\n",
    "        valid += 1\n",
    "    else:\n",
    "        continue\n",
    "\n",
    "valid"
   ]
  },
  {
   "cell_type": "code",
   "execution_count": 74,
   "metadata": {},
   "outputs": [
    {
     "data": {
      "text/plain": [
       "502"
      ]
     },
     "execution_count": 74,
     "metadata": {},
     "output_type": "execute_result"
    }
   ],
   "source": [
    "new_valid = 0\n",
    "\n",
    "for i in pwds: \n",
    "    pwd_data = i.replace(\"-\", \" \").replace(\":\", \"\").strip(\"\\n\").split()\n",
    "    index1 = int(pwd_data[0])-1\n",
    "    index2 = int(pwd_data[1])-1\n",
    "    letter = pwd_data[2]\n",
    "    pwd = pwd_data[3]\n",
    "    \n",
    "    try:\n",
    "        if (pwd[index1]==letter and pwd[index2]!=letter) or (pwd[index1]!=letter and pwd[index2]==letter):\n",
    "            new_valid += 1\n",
    "    except:\n",
    "        continue\n",
    "        \n",
    "new_valid\n",
    "        \n",
    "    "
   ]
  }
 ],
 "metadata": {
  "kernelspec": {
   "display_name": "Python 3",
   "language": "python",
   "name": "python3"
  },
  "language_info": {
   "codemirror_mode": {
    "name": "ipython",
    "version": 3
   },
   "file_extension": ".py",
   "mimetype": "text/x-python",
   "name": "python",
   "nbconvert_exporter": "python",
   "pygments_lexer": "ipython3",
   "version": "3.8.3"
  }
 },
 "nbformat": 4,
 "nbformat_minor": 4
}
