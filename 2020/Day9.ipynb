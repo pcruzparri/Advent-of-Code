{
 "cells": [
  {
   "cell_type": "code",
   "execution_count": 1,
   "metadata": {},
   "outputs": [],
   "source": [
    "f = open(\"Day9input.txt\",'r')\n",
    "xmas = f.readlines()"
   ]
  },
  {
   "cell_type": "code",
   "execution_count": 2,
   "metadata": {},
   "outputs": [
    {
     "name": "stdout",
     "output_type": "stream",
     "text": [
      "533 36845998\n",
      "\n"
     ]
    }
   ],
   "source": [
    "def xmas_check(puzzle, index):\n",
    "    for j in range(index-25, index):\n",
    "        for k in range(j+1, index):\n",
    "            if int(puzzle[j])+int(puzzle[k])==int(puzzle[index]) and puzzle[j]!=puzzle[k]:\n",
    "                return True\n",
    "    return False\n",
    "\n",
    "\n",
    "for i in range(25,len(xmas)):\n",
    "    if not xmas_check(xmas,i):\n",
    "        print(i, xmas[i])\n",
    "        \n",
    "        \n",
    "        "
   ]
  },
  {
   "cell_type": "code",
   "execution_count": 3,
   "metadata": {},
   "outputs": [],
   "source": [
    "def xmas_check2(puzzle, cont, target_val, t_val_i):\n",
    "    for i in range(t_val_i-cont+1):\n",
    "        cont_sum = 0\n",
    "        #print(f'checking from {i} to {i+cont}')\n",
    "        for j in range(i,i+cont):\n",
    "            #print(puzzle[j])\n",
    "            cont_sum+=int(puzzle[j])\n",
    "        #print(cont_sum)\n",
    "        if cont_sum == target_val:\n",
    "            return [int(puzzle[x]) for x in range(i,i+cont)]\n",
    "        else:\n",
    "            cont_sum = 0\n",
    "    return False\n",
    "\n",
    "        "
   ]
  },
  {
   "cell_type": "code",
   "execution_count": 4,
   "metadata": {},
   "outputs": [
    {
     "data": {
      "text/plain": [
       "[15, 25, 47, 40]"
      ]
     },
     "execution_count": 4,
     "metadata": {},
     "output_type": "execute_result"
    }
   ],
   "source": [
    "test=[35,\n",
    "20,\n",
    "15,\n",
    "25,\n",
    "47,\n",
    "40,\n",
    "62,\n",
    "55,\n",
    "65,\n",
    "95,\n",
    "102,\n",
    "117,\n",
    "150,\n",
    "182,\n",
    "127,\n",
    "219,\n",
    "299,\n",
    "277,\n",
    "309,\n",
    "576]\n",
    "\n",
    "xmas_check2(test,4,127,14)"
   ]
  },
  {
   "cell_type": "code",
   "execution_count": 6,
   "metadata": {},
   "outputs": [
    {
     "name": "stdout",
     "output_type": "stream",
     "text": [
      "4830226\n"
     ]
    }
   ],
   "source": [
    "for i in range(2,534):\n",
    "    #xmas_check2(xmas,i,36845998,534)\n",
    "    if xmas_check2(xmas,i,36845998,534):\n",
    "        print(min(xmas_check2(xmas,i,36845998,534))+max(xmas_check2(xmas,i,36845998,534)))\n",
    "        break"
   ]
  },
  {
   "cell_type": "code",
   "execution_count": 9,
   "metadata": {},
   "outputs": [
    {
     "name": "stdout",
     "output_type": "stream",
     "text": [
      "1\n"
     ]
    }
   ],
   "source": [
    "if False==False:\n",
    "    print(1)"
   ]
  },
  {
   "cell_type": "code",
   "execution_count": null,
   "metadata": {},
   "outputs": [],
   "source": []
  }
 ],
 "metadata": {
  "kernelspec": {
   "display_name": "Python 3",
   "language": "python",
   "name": "python3"
  },
  "language_info": {
   "codemirror_mode": {
    "name": "ipython",
    "version": 3
   },
   "file_extension": ".py",
   "mimetype": "text/x-python",
   "name": "python",
   "nbconvert_exporter": "python",
   "pygments_lexer": "ipython3",
   "version": "3.8.3"
  }
 },
 "nbformat": 4,
 "nbformat_minor": 4
}
