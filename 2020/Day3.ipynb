{
 "cells": [
  {
   "cell_type": "code",
   "execution_count": 7,
   "metadata": {},
   "outputs": [
    {
     "data": {
      "text/plain": [
       "187"
      ]
     },
     "execution_count": 7,
     "metadata": {},
     "output_type": "execute_result"
    }
   ],
   "source": [
    "f = open(\"Day3input.txt\", \"r\")\n",
    "map = f.readlines()\n",
    "\n",
    "\n",
    "trees_hit = 0\n",
    "dx, dy = 3, 1\n",
    "pos_x = 0\n",
    "#print(\"|\"+map[0][0]+\"|\"+map[0][1:-1])\n",
    "\n",
    "for i in range(len(map)-dy):\n",
    "    pos_x = (pos_x+dx)%(len(map[i])-1)\n",
    "    \n",
    "    #print(map[i+dy][:pos_x]+\"|\"+map[i+dy][pos_x]+\"|\"+map[i+dy][pos_x+1:])\n",
    "    if map[i+dy][pos_x]==\"#\":\n",
    "        trees_hit+=1\n",
    "        \n",
    "    else:\n",
    "        continue\n",
    "        \n",
    "trees_hit\n"
   ]
  },
  {
   "cell_type": "code",
   "execution_count": 9,
   "metadata": {},
   "outputs": [
    {
     "data": {
      "text/plain": [
       "4723283400"
      ]
     },
     "execution_count": 9,
     "metadata": {},
     "output_type": "execute_result"
    }
   ],
   "source": [
    "trees_hit_mult = 1\n",
    "slopes = [(1,1), (3,1), (5,1), (7,1), (1,2)]\n",
    "pos_x = 0\n",
    "\n",
    "for slope in slopes:\n",
    "    trees_hit = 0\n",
    "    dx, dy = slope[0], slope[1]\n",
    "    pos_x = 0\n",
    "    \n",
    "    for i in range(0, len(map)-dy, dy):\n",
    "        pos_x = (pos_x+dx)%(len(map[i])-1)\n",
    "        \n",
    "        if map[i+dy][pos_x]==\"#\":\n",
    "            trees_hit += 1\n",
    "        \n",
    "        else:\n",
    "            continue\n",
    "            \n",
    "    #print(trees_hit)\n",
    "    trees_hit_mult *= trees_hit\n",
    "            \n",
    "trees_hit_mult"
   ]
  },
  {
   "cell_type": "code",
   "execution_count": null,
   "metadata": {},
   "outputs": [],
   "source": []
  }
 ],
 "metadata": {
  "kernelspec": {
   "display_name": "Python 3",
   "language": "python",
   "name": "python3"
  },
  "language_info": {
   "codemirror_mode": {
    "name": "ipython",
    "version": 3
   },
   "file_extension": ".py",
   "mimetype": "text/x-python",
   "name": "python",
   "nbconvert_exporter": "python",
   "pygments_lexer": "ipython3",
   "version": "3.8.3"
  }
 },
 "nbformat": 4,
 "nbformat_minor": 4
}
