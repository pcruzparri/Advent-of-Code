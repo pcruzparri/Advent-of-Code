{
 "cells": [
  {
   "cell_type": "code",
   "execution_count": 1,
   "metadata": {},
   "outputs": [
    {
     "data": {
      "text/plain": [
       "10"
      ]
     },
     "execution_count": 1,
     "metadata": {},
     "output_type": "execute_result"
    }
   ],
   "source": [
    "f = open('Day11test.txt','r')\n",
    "seating = f.readlines()\n",
    "seating = [str(i[:-1]) for i in seating]\n",
    "len(seating)"
   ]
  },
  {
   "cell_type": "code",
   "execution_count": 2,
   "metadata": {},
   "outputs": [
    {
     "data": {
      "text/plain": [
       "37"
      ]
     },
     "execution_count": 2,
     "metadata": {},
     "output_type": "execute_result"
    }
   ],
   "source": [
    "def update_map(puzzle):\n",
    "    \n",
    "    occupied=0\n",
    "    #new_map = ['.'*len(puzzle[0]) for i in range(len(puzzle))]\n",
    "    new_map = [i for i in puzzle]\n",
    "    \n",
    "    for i in range(len(puzzle)):\n",
    "        for j in range(len(puzzle[i])):\n",
    "            \n",
    "            if puzzle[i][j]=='.':\n",
    "                continue\n",
    "                \n",
    "            else:\n",
    "                for k in range(-1,2):\n",
    "                    for l in range(-1,2):\n",
    "                        if 0<=(i+k) and 0<=(j+l):\n",
    "                            try:\n",
    "                                if puzzle[i+k][j+l]=='#':\n",
    "                                    occupied+=1\n",
    "                                    #print(f'added {k},{l}')\n",
    "                            except:\n",
    "                                pass\n",
    "                                \n",
    "                if puzzle[i][j] == \"#\":\n",
    "                    occupied-=1\n",
    "                if occupied==0 and puzzle[i][j]=='L':\n",
    "                    new_map[i] = new_map[i][:j] + '#' + new_map[i][j+1:]\n",
    "                if 4>occupied>=1 and puzzle[i][j]=='#':\n",
    "                    new_map[i] = new_map[i][:j] + '#' + new_map[i][j+1:]\n",
    "                if occupied>=4 and puzzle[i][j]=='#':\n",
    "                    new_map[i] = new_map[i][:j] + 'L' + new_map[i][j+1:]\n",
    "            occupied = 0\n",
    "            \n",
    "    occupied_seats = 0\n",
    "    for i in new_map:\n",
    "        occupied_seats += i.count('#')\n",
    "\n",
    "    return(new_map,occupied_seats)\n",
    "\n",
    "old_map = seating\n",
    "while old_map != update_map(old_map)[0]:\n",
    "    old_map = update_map(old_map)[0]\n",
    "    \n",
    "update_map(old_map)[1]\n",
    "    \n",
    "\n",
    "\n",
    "\n",
    "                \n",
    "                "
   ]
  },
  {
   "cell_type": "code",
   "execution_count": 3,
   "metadata": {},
   "outputs": [],
   "source": [
    "def find(lst, to_find):\n",
    "    for i in range(len(lst)):\n",
    "        if lst[i]==to_find:\n",
    "            return i"
   ]
  },
  {
   "cell_type": "code",
   "execution_count": 4,
   "metadata": {},
   "outputs": [
    {
     "name": "stdout",
     "output_type": "stream",
     "text": [
      "0 0 0\n",
      "0 2 0\n",
      "0 3 0\n",
      "0 5 0\n",
      "0 6 0\n",
      "0 8 0\n",
      "0 9 0\n",
      "1 0 0\n",
      "1 1 0\n",
      "1 2 0\n",
      "1 3 0\n",
      "1 4 0\n",
      "1 5 0\n",
      "1 6 0\n",
      "1 8 0\n",
      "1 9 0\n",
      "2 0 0\n",
      "2 2 0\n",
      "2 4 0\n",
      "2 7 0\n",
      "3 0 0\n",
      "3 1 0\n",
      "3 2 0\n",
      "3 3 0\n",
      "3 5 0\n",
      "3 6 0\n",
      "3 8 0\n",
      "3 9 0\n",
      "4 0 0\n",
      "4 2 0\n",
      "4 3 0\n",
      "4 5 0\n",
      "4 6 0\n",
      "4 8 0\n",
      "4 9 0\n",
      "5 0 0\n",
      "5 2 0\n",
      "5 3 0\n",
      "5 4 0\n",
      "5 5 0\n",
      "5 6 0\n",
      "5 8 0\n",
      "5 9 0\n",
      "6 2 0\n",
      "6 4 0\n",
      "7 0 0\n",
      "7 1 0\n",
      "7 2 0\n",
      "7 3 0\n",
      "7 4 0\n",
      "7 5 0\n",
      "7 6 0\n",
      "7 7 0\n",
      "7 8 0\n",
      "7 9 0\n",
      "8 0 0\n",
      "8 2 0\n",
      "8 3 0\n",
      "8 4 0\n",
      "8 5 0\n",
      "8 6 0\n",
      "8 7 0\n",
      "8 9 0\n",
      "9 0 0\n",
      "9 2 0\n",
      "9 3 0\n",
      "9 4 0\n",
      "9 5 0\n",
      "9 6 0\n",
      "9 8 0\n",
      "9 9 0\n",
      "0 0 0\n",
      "0 1 0\n",
      "0 2 0\n",
      "0 3 0\n",
      "0 4 0\n",
      "0 5 0\n",
      "0 6 0\n",
      "0 7 0\n",
      "0 8 0\n",
      "0 9 0\n"
     ]
    },
    {
     "ename": "TypeError",
     "evalue": "object of type 'int' has no len()",
     "output_type": "error",
     "traceback": [
      "\u001b[1;31m---------------------------------------------------------------------------\u001b[0m",
      "\u001b[1;31mTypeError\u001b[0m                                 Traceback (most recent call last)",
      "\u001b[1;32m<ipython-input-4-fa16211797b7>\u001b[0m in \u001b[0;36m<module>\u001b[1;34m\u001b[0m\n\u001b[0;32m     71\u001b[0m update_map2(old_map)[1]\"\"\"\n\u001b[0;32m     72\u001b[0m \u001b[1;33m\u001b[0m\u001b[0m\n\u001b[1;32m---> 73\u001b[1;33m \u001b[0mupdate_map2\u001b[0m\u001b[1;33m(\u001b[0m\u001b[0mupdate_map2\u001b[0m\u001b[1;33m(\u001b[0m\u001b[0mseating\u001b[0m\u001b[1;33m)\u001b[0m\u001b[1;33m)\u001b[0m\u001b[1;33m[\u001b[0m\u001b[1;36m0\u001b[0m\u001b[1;33m]\u001b[0m\u001b[1;33m\u001b[0m\u001b[1;33m\u001b[0m\u001b[0m\n\u001b[0m",
      "\u001b[1;32m<ipython-input-4-fa16211797b7>\u001b[0m in \u001b[0;36mupdate_map2\u001b[1;34m(puzzle)\u001b[0m\n\u001b[0;32m     17\u001b[0m \u001b[1;33m\u001b[0m\u001b[0m\n\u001b[0;32m     18\u001b[0m     \u001b[1;32mfor\u001b[0m \u001b[0mi\u001b[0m \u001b[1;32min\u001b[0m \u001b[0mrange\u001b[0m\u001b[1;33m(\u001b[0m\u001b[0mlen\u001b[0m\u001b[1;33m(\u001b[0m\u001b[0mpuzzle\u001b[0m\u001b[1;33m)\u001b[0m\u001b[1;33m)\u001b[0m\u001b[1;33m:\u001b[0m\u001b[1;33m\u001b[0m\u001b[1;33m\u001b[0m\u001b[0m\n\u001b[1;32m---> 19\u001b[1;33m         \u001b[1;32mfor\u001b[0m \u001b[0mj\u001b[0m \u001b[1;32min\u001b[0m \u001b[0mrange\u001b[0m\u001b[1;33m(\u001b[0m\u001b[0mlen\u001b[0m\u001b[1;33m(\u001b[0m\u001b[0mpuzzle\u001b[0m\u001b[1;33m[\u001b[0m\u001b[0mi\u001b[0m\u001b[1;33m]\u001b[0m\u001b[1;33m)\u001b[0m\u001b[1;33m)\u001b[0m\u001b[1;33m:\u001b[0m\u001b[1;33m\u001b[0m\u001b[1;33m\u001b[0m\u001b[0m\n\u001b[0m\u001b[0;32m     20\u001b[0m \u001b[1;33m\u001b[0m\u001b[0m\n\u001b[0;32m     21\u001b[0m             \u001b[1;32mif\u001b[0m \u001b[0mpuzzle\u001b[0m\u001b[1;33m[\u001b[0m\u001b[0mi\u001b[0m\u001b[1;33m]\u001b[0m\u001b[1;33m[\u001b[0m\u001b[0mj\u001b[0m\u001b[1;33m]\u001b[0m\u001b[1;33m==\u001b[0m\u001b[1;34m'.'\u001b[0m\u001b[1;33m:\u001b[0m\u001b[1;33m\u001b[0m\u001b[1;33m\u001b[0m\u001b[0m\n",
      "\u001b[1;31mTypeError\u001b[0m: object of type 'int' has no len()"
     ]
    }
   ],
   "source": [
    "import numpy as np\n",
    "\n",
    "\n",
    "def find(lst, to_find):\n",
    "    for i in range(len(lst)):\n",
    "        if lst[i]==to_find:\n",
    "            return i\n",
    "\n",
    "def update_map2(puzzle):\n",
    "    pos_x = np.array([[i,i] for i in range(-len(puzzle), len(puzzle))])\n",
    "    neg_x = np.array([[i,-i] for i in range(-len(puzzle), len(puzzle))])\n",
    "    hor = np.array([[i,0] for i in range(-len(puzzle), len(puzzle))])\n",
    "    ver = np.array([[0,i] for i in range(-len(puzzle), len(puzzle))])\n",
    "    \n",
    "    occupied=0\n",
    "    new_map = [i for i in puzzle]\n",
    "    \n",
    "    for i in range(len(puzzle)):\n",
    "        for j in range(len(puzzle[i])):\n",
    "            \n",
    "            if puzzle[i][j]=='.':\n",
    "                continue\n",
    "                \n",
    "            else:\n",
    "                loc_pos_x = np.matrix.tolist(pos_x+[j,-i])\n",
    "                loc_neg_x = np.matrix.tolist(neg_x+[j,-i])\n",
    "                loc_hor = np.matrix.tolist(hor+[j,-i])\n",
    "                loc_ver = np.matrix.tolist(ver+[j,-i])\n",
    "                \n",
    "                welp_help = [loc_pos_x[:find(loc_pos_x,[j,-i])],\n",
    "                            loc_pos_x[find(loc_pos_x,[j,-i])+2:],\n",
    "                            loc_neg_x[:find(loc_neg_x,[j,-i])],\n",
    "                            loc_neg_x[find(loc_neg_x,[j,-i])+2:],\n",
    "                            loc_hor[:find(loc_hor,[j,-i])],\n",
    "                            loc_hor[find(loc_hor,[j,-i])+2:],\n",
    "                            loc_ver[:find(loc_ver,[j,-i])],\n",
    "                            loc_ver[find(loc_ver,[j,-i])+2:]]\n",
    "                \n",
    "                for z in welp_help: \n",
    "                    for k in z:\n",
    "                        if 0<=(i+k[1]) and 0<=(j+k[0]):\n",
    "                            try:\n",
    "                                if puzzle[i+k[1]][j+k[0]]=='#':\n",
    "                                    occupied+=1\n",
    "                                    print(f'added {i+k[1]},{j+k[0]}')\n",
    "                                    break\n",
    "                            except:\n",
    "                                pass\n",
    "                        \n",
    "                print(i,j,occupied)                \n",
    "                if puzzle[i][j] == \"#\":\n",
    "                    occupied-=1\n",
    "                if occupied==0 and puzzle[i][j]=='L':\n",
    "                    new_map[i] = new_map[i][:j] + '#' + new_map[i][j+1:]\n",
    "                if 5>occupied>=1 and puzzle[i][j]=='#':\n",
    "                    new_map[i] = new_map[i][:j] + '#' + new_map[i][j+1:]\n",
    "                if occupied>=5 and puzzle[i][j]=='#':\n",
    "                    new_map[i] = new_map[i][:j] + 'L' + new_map[i][j+1:]\n",
    "            occupied = 0\n",
    "            \n",
    "    occupied_seats = 0\n",
    "    for i in new_map:\n",
    "        occupied_seats += i.count('#')\n",
    "\n",
    "    return(new_map,occupied_seats)\n",
    "\n",
    "\"\"\"old_map = seating\n",
    "while old_map != update_map2(old_map)[0]:\n",
    "    old_map = update_map2(old_map)[0]\n",
    "    \n",
    "update_map2(old_map)[1]\"\"\"\n",
    "\n",
    "update_map2(update_map2(seating))[0]"
   ]
  },
  {
   "cell_type": "code",
   "execution_count": null,
   "metadata": {},
   "outputs": [],
   "source": [
    "a = np.array([[i,i] for i in range(-10,10)])+[1,3]\n",
    "a"
   ]
  },
  {
   "cell_type": "code",
   "execution_count": null,
   "metadata": {},
   "outputs": [],
   "source": [
    "find(np.matrix.tolist(a),[1,3])"
   ]
  },
  {
   "cell_type": "code",
   "execution_count": null,
   "metadata": {},
   "outputs": [],
   "source": [
    "a  = [1,2,3,4]\n",
    "a.reverse()\n",
    "print(a)\n"
   ]
  },
  {
   "cell_type": "code",
   "execution_count": null,
   "metadata": {},
   "outputs": [],
   "source": []
  }
 ],
 "metadata": {
  "kernelspec": {
   "display_name": "Python 3",
   "language": "python",
   "name": "python3"
  },
  "language_info": {
   "codemirror_mode": {
    "name": "ipython",
    "version": 3
   },
   "file_extension": ".py",
   "mimetype": "text/x-python",
   "name": "python",
   "nbconvert_exporter": "python",
   "pygments_lexer": "ipython3",
   "version": "3.8.3"
  }
 },
 "nbformat": 4,
 "nbformat_minor": 4
}
