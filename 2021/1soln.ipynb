{
 "cells": [
  {
   "cell_type": "code",
   "execution_count": 9,
   "metadata": {},
   "outputs": [
    {
     "data": {
      "text/plain": [
       "1559"
      ]
     },
     "execution_count": 9,
     "metadata": {},
     "output_type": "execute_result"
    }
   ],
   "source": [
    "f = open('C:\\\\Users\\\\Peter\\\\Documents\\\\AdventOfCode2021\\\\1_1input.txt','r')\n",
    "inp = f.readlines()\n",
    "\n",
    "increased = 0\n",
    "for i in range(1,len(inp)):\n",
    "    if int(inp[i])>int(inp[i-1]):\n",
    "        increased+=1\n",
    "    \n",
    "increased"
   ]
  },
  {
   "cell_type": "code",
   "execution_count": 10,
   "metadata": {},
   "outputs": [
    {
     "data": {
      "text/plain": [
       "1600"
      ]
     },
     "execution_count": 10,
     "metadata": {},
     "output_type": "execute_result"
    }
   ],
   "source": [
    "three_sum = 0\n",
    "\n",
    "for i in range(3,len(inp)):\n",
    "    if int(inp[i])+int(inp[i-1])+int(inp[i-2]) > int(inp[i-1])+int(inp[i-2])+int(inp[i-3]):\n",
    "        three_sum+=1\n",
    "        \n",
    "three_sum\n"
   ]
  },
  {
   "cell_type": "code",
   "execution_count": null,
   "metadata": {},
   "outputs": [],
   "source": []
  }
 ],
 "metadata": {
  "kernelspec": {
   "display_name": "Python 3",
   "language": "python",
   "name": "python3"
  },
  "language_info": {
   "codemirror_mode": {
    "name": "ipython",
    "version": 3
   },
   "file_extension": ".py",
   "mimetype": "text/x-python",
   "name": "python",
   "nbconvert_exporter": "python",
   "pygments_lexer": "ipython3",
   "version": "3.8.3"
  }
 },
 "nbformat": 4,
 "nbformat_minor": 4
}
