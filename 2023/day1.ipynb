{
 "cells": [
  {
   "cell_type": "code",
   "execution_count": 1,
   "id": "8031c558",
   "metadata": {},
   "outputs": [
    {
     "name": "stdout",
     "output_type": "stream",
     "text": [
      "1000\n"
     ]
    },
    {
     "data": {
      "text/plain": [
       "['7jlncfksix7rjgrpglmn9',\n",
       " 'vcgkgxninerqjltdbhqzzpd4nine23',\n",
       " 'fx3',\n",
       " '8nrbjbpjpnineseven',\n",
       " '7qlfhcsnxn7fpfhjcgr6eightsevenjlpchjtzpztwo']"
      ]
     },
     "execution_count": 1,
     "metadata": {},
     "output_type": "execute_result"
    }
   ],
   "source": [
    "# clean input file\n",
    "f = open('day1_input.txt', 'r').readlines()\n",
    "c_data = [val.strip('\\n') for val in f]\n",
    "print(len(c_data))\n",
    "c_data[:5]"
   ]
  },
  {
   "cell_type": "markdown",
   "id": "6596edd2",
   "metadata": {},
   "source": [
    "### Solution 1"
   ]
  },
  {
   "cell_type": "code",
   "execution_count": 2,
   "id": "3994cedd",
   "metadata": {},
   "outputs": [
    {
     "data": {
      "text/plain": [
       "55488"
      ]
     },
     "execution_count": 2,
     "metadata": {},
     "output_type": "execute_result"
    }
   ],
   "source": [
    "import string\n",
    "import toolz.itertoolz as it\n",
    "\n",
    "\n",
    "c_vals = [int(''.join(it.get([0,-1], v.strip(string.ascii_letters))))\n",
    "          for v in c_data]\n",
    "sum(c_vals)"
   ]
  },
  {
   "cell_type": "markdown",
   "id": "ad2edd0e",
   "metadata": {},
   "source": [
    "### Solution 2"
   ]
  },
  {
   "cell_type": "code",
   "execution_count": 13,
   "id": "ec4f9418",
   "metadata": {},
   "outputs": [
    {
     "data": {
      "text/plain": [
       "55614"
      ]
     },
     "execution_count": 13,
     "metadata": {},
     "output_type": "execute_result"
    }
   ],
   "source": [
    "nums = ['one', 'two', 'three', 'four', 'five', 'six', 'seven', 'eight', 'nine']\n",
    "digits = [str(i) for i in range(1,10,1)]\n",
    "vals = []\n",
    "test = ['two1nine',\n",
    "        'eightwothree',\n",
    "        'abcone2threexyz',\n",
    "        'xtwone3four',\n",
    "        '4nineeightseven2',\n",
    "        'zoneight234',\n",
    "        '7pqrstsixteen',\n",
    "        'oneightwone',\n",
    "        'eight1ight', \n",
    "        '3fkwhejbaf',\n",
    "        'qferfggq4']\n",
    "\n",
    "def check_substrings(string, substrings):\n",
    "    return [True if sub in string else False for sub in substrings]\n",
    "\n",
    "vals = []\n",
    "subs = digits+nums\n",
    "for d in c_data:\n",
    "    ind = 1\n",
    "    left = ''\n",
    "    right = ''\n",
    "    while ind <= len(d):\n",
    "        if not left or not right:\n",
    "            if not left:\n",
    "                left_check = check_substrings(d[0:ind], subs)\n",
    "                if True in left_check:\n",
    "                    left=subs[left_check.index(True)]\n",
    "            if not right:\n",
    "                right_check = check_substrings(d[-ind:], subs)\n",
    "                if True in right_check:\n",
    "                    right=subs[right_check.index(True)]\n",
    "        else: break\n",
    "        ind+=1\n",
    "    \n",
    "    if left in nums:\n",
    "        left = digits[nums.index(left)]\n",
    "    if right in nums:\n",
    "        right = digits[nums.index(right)]\n",
    "    vals.append(int(left+right))\n",
    "sum(vals)"
   ]
  }
 ],
 "metadata": {
  "kernelspec": {
   "display_name": "Python 3 (ipykernel)",
   "language": "python",
   "name": "python3"
  },
  "language_info": {
   "codemirror_mode": {
    "name": "ipython",
    "version": 3
   },
   "file_extension": ".py",
   "mimetype": "text/x-python",
   "name": "python",
   "nbconvert_exporter": "python",
   "pygments_lexer": "ipython3",
   "version": "3.8.16"
  }
 },
 "nbformat": 4,
 "nbformat_minor": 5
}
