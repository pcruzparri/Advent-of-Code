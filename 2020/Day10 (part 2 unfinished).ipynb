{
 "cells": [
  {
   "cell_type": "code",
   "execution_count": 70,
   "metadata": {},
   "outputs": [],
   "source": [
    "f = open('Day10input.txt','r')\n",
    "adapters = f.readlines()\n",
    "\n",
    "adapters = sorted([int(i) for i in adapters])\n"
   ]
  },
  {
   "cell_type": "code",
   "execution_count": 71,
   "metadata": {},
   "outputs": [
    {
     "data": {
      "text/plain": [
       "1904"
      ]
     },
     "execution_count": 71,
     "metadata": {},
     "output_type": "execute_result"
    }
   ],
   "source": [
    "diff1 = 1\n",
    "diff3 = 1\n",
    "\n",
    "for i in range(len(adapters)-1):\n",
    "    if adapters[i+1]-adapters[i]==1: \n",
    "        diff1+=1\n",
    "    elif adapters[i+1]-adapters[i]==3: \n",
    "        diff3+=1\n",
    "\n",
    "diff1*diff3\n"
   ]
  },
  {
   "cell_type": "code",
   "execution_count": 68,
   "metadata": {},
   "outputs": [
    {
     "name": "stdout",
     "output_type": "stream",
     "text": [
      "counter = 3\n",
      "2/96 added 3\n",
      "counter = 2\n",
      "counter = 6\n",
      "counter = 6\n",
      "counter = 10\n",
      "counter = 14\n",
      "counter = 18\n",
      "counter = 21\n",
      "counter = 23\n",
      "counter = 23\n",
      "counter = 24\n",
      "counter = 25\n",
      "counter = 28\n",
      "counter = 30\n",
      "counter = 30\n",
      "counter = 32\n",
      "counter = 35\n",
      "counter = 35\n",
      "counter = 39\n",
      "counter = 42\n",
      "counter = 42\n",
      "counter = 45\n",
      "counter = 49\n",
      "counter = 53\n",
      "counter = 56\n",
      "counter = 59\n",
      "counter = 63\n"
     ]
    },
    {
     "data": {
      "text/plain": [
       "[1, 0, 0]"
      ]
     },
     "execution_count": 68,
     "metadata": {},
     "output_type": "execute_result"
    }
   ],
   "source": [
    "adapters1 = [0]+adapters\n",
    "nums = [0,0,0]\n",
    "counter = 1\n",
    "\n",
    "for i in range(len(adapters1)-1):\n",
    "    if adapters1[i+1]-adapters1[i]==1:\n",
    "        counter+=1 \n",
    "      \n",
    "    if adapters1[i+1]-adapters1[i]!=1:\n",
    "        print(f'counter = {counter}')\n",
    "        \n",
    "        if counter == 3: \n",
    "            nums[0]+=1\n",
    "            counter = 1\n",
    "            print(f'{i}/{len(adapters1)} added 3')\n",
    "        elif counter == 4:\n",
    "            nums[1]+=1\n",
    "            counter = 1\n",
    "            print(f'{i}/{len(adapters1)} added 4')\n",
    "        elif counter == 5:\n",
    "            nums[2]+=1\n",
    "            print(f'{i}/{len(adapters1)} added 5')\n",
    "            counter = 1\n",
    "\n",
    "nums"
   ]
  }
 ],
 "metadata": {
  "kernelspec": {
   "display_name": "Python 3",
   "language": "python",
   "name": "python3"
  },
  "language_info": {
   "codemirror_mode": {
    "name": "ipython",
    "version": 3
   },
   "file_extension": ".py",
   "mimetype": "text/x-python",
   "name": "python",
   "nbconvert_exporter": "python",
   "pygments_lexer": "ipython3",
   "version": "3.8.3"
  }
 },
 "nbformat": 4,
 "nbformat_minor": 4
}
